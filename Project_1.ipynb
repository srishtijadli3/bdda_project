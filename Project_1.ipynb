{
  "nbformat": 4,
  "nbformat_minor": 0,
  "metadata": {
    "colab": {
      "provenance": [],
      "authorship_tag": "ABX9TyNDoQY05lPrz5oEbKdAs2QZ",
      "include_colab_link": true
    },
    "kernelspec": {
      "name": "python3",
      "display_name": "Python 3"
    },
    "language_info": {
      "name": "python"
    }
  },
  "cells": [
    {
      "cell_type": "markdown",
      "metadata": {
        "id": "view-in-github",
        "colab_type": "text"
      },
      "source": [
        "<a href=\"https://colab.research.google.com/github/srishtijadli3/bdda_project/blob/main/Project_1.ipynb\" target=\"_parent\"><img src=\"https://colab.research.google.com/assets/colab-badge.svg\" alt=\"Open In Colab\"/></a>"
      ]
    },
    {
      "cell_type": "markdown",
      "source": [
        "**Pipeline and Cross Validation**"
      ],
      "metadata": {
        "id": "tKI018BDeOue"
      }
    },
    {
      "cell_type": "markdown",
      "source": [
        "Pipelines streamline machine learning workflows by organizing data preprocessing and modeling steps.\n",
        "\n",
        "\n",
        "\n",
        "They enhance code clarity, automate processes, aid reproducibility, and simplify hyperparameter tuning.\n",
        "\n",
        "\n",
        "\n",
        "\n",
        "Pipelines prevent data leakage, facilitate model deployment, and work\n",
        "\n",
        "This modular approach promotes efficient experimentation with various techniques while maintaining consistency and ease of sharing.\n",
        "\n",
        "\n",
        "\n",
        "\n",
        "\n",
        "\n",
        "\n",
        "\n",
        "![20230306c_1.jpg](data:image/jpeg;base64,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)"
      ],
      "metadata": {
        "id": "B9SgLbHNCbeG"
      }
    },
    {
      "cell_type": "code",
      "execution_count": 1,
      "metadata": {
        "id": "ZsQlpXAepMwO"
      },
      "outputs": [],
      "source": [
        "import pandas as pd # allowing you to work with data structures like DataFrames and Series\n",
        "from sklearn.model_selection import train_test_split #splits a dataset into training and testing subsets for machine learning.\n",
        "from sklearn.ensemble import  RandomForestClassifier # class from scikit-learn, which is an ensemble learning method based on decision trees for classification tasks.\n",
        "from sklearn.metrics import accuracy_score #calculates the accuracy of a classification model's predictions compared to the actual target values\n",
        "from sklearn.impute import SimpleImputer #used for filling missing values in a dataset using strategies like mean, median, etc.\n",
        "from sklearn.pipeline import make_pipeline # creates a pipeline that chains together multiple data preprocessing and modeling step\n",
        "\n",
        "from pathlib import Path\n"
      ]
    },
    {
      "cell_type": "code",
      "source": [
        "#providing access to your Google Drive files and folders within the notebook environment\n",
        "from google.colab import drive\n",
        "drive.mount('/gdrive')"
      ],
      "metadata": {
        "colab": {
          "base_uri": "https://localhost:8080/"
        },
        "id": "sLPfPTPrpR7j",
        "outputId": "dd8db35e-020e-47af-e89a-efc007f65338"
      },
      "execution_count": 2,
      "outputs": [
        {
          "output_type": "stream",
          "name": "stdout",
          "text": [
            "Mounted at /gdrive\n"
          ]
        }
      ]
    },
    {
      "cell_type": "code",
      "source": [
        "# Configure IPython shell to display output for all expressions in this cell\n",
        "from IPython.core.interactiveshell import InteractiveShell\n",
        "InteractiveShell.ast_node_interactivity = \"all\""
      ],
      "metadata": {
        "id": "xlHrf_LFsEnh"
      },
      "execution_count": 3,
      "outputs": []
    },
    {
      "cell_type": "code",
      "source": [
        "# Set the variable 'pathToFolder' to the path of the target folder in Google Drive\n",
        "pathToFolder = \"/gdrive/MyDrive/bdda1\""
      ],
      "metadata": {
        "id": "c0MIg6eYtDmA"
      },
      "execution_count": 4,
      "outputs": []
    },
    {
      "cell_type": "code",
      "source": [
        "# Construct the full path to the CSV file 'cwurData.csv' within the specified folder path\n",
        "path = Path(pathToFolder) / \"diabetes (of individuals).csv\""
      ],
      "metadata": {
        "id": "7C8cVCiWtFzK"
      },
      "execution_count": 5,
      "outputs": []
    },
    {
      "cell_type": "code",
      "source": [
        "# Read the CSV file at the given 'path' and create a Pandas DataFrame named 'data',\n",
        "# using the 'iso-8859-1' encoding for text encoding and decoding\n",
        "data = pd.read_csv(path, encoding='iso-8859-1')"
      ],
      "metadata": {
        "id": "tsPW-P9Suw18"
      },
      "execution_count": 6,
      "outputs": []
    },
    {
      "cell_type": "code",
      "source": [
        "# Display the shape (rows and columns) of the 'data' DataFrame and show the first few rows\n",
        "data.shape\n",
        "data.shape\n",
        "data.head()"
      ],
      "metadata": {
        "colab": {
          "base_uri": "https://localhost:8080/",
          "height": 223
        },
        "id": "w0r2gvh7vTKK",
        "outputId": "ea3c59eb-d584-4c21-d971-05e06294e059"
      },
      "execution_count": 7,
      "outputs": [
        {
          "output_type": "execute_result",
          "data": {
            "text/plain": [
              "(768, 9)"
            ]
          },
          "metadata": {},
          "execution_count": 7
        },
        {
          "output_type": "execute_result",
          "data": {
            "text/plain": [
              "(768, 9)"
            ]
          },
          "metadata": {},
          "execution_count": 7
        },
        {
          "output_type": "execute_result",
          "data": {
            "text/plain": [
              "   Pregnancies  Glucose  BloodPressure  SkinThickness  Insulin   BMI  \\\n",
              "0            6    148.0           72.0             35        0  33.6   \n",
              "1            1     85.0           66.0             29        0  26.6   \n",
              "2            8    183.0           64.0              0        0  23.3   \n",
              "3            1      NaN            NaN             23       94  28.1   \n",
              "4            0    137.0           40.0             35      168  43.1   \n",
              "\n",
              "   DiabetesPedigreeFunction  Age  Outcome  \n",
              "0                     0.627   50        1  \n",
              "1                     0.351   31        0  \n",
              "2                     0.672   32        1  \n",
              "3                     0.167   21        0  \n",
              "4                     2.288   33        1  "
            ],
            "text/html": [
              "\n",
              "\n",
              "  <div id=\"df-5b63cd9e-3315-45ee-ac80-9f521d587153\">\n",
              "    <div class=\"colab-df-container\">\n",
              "      <div>\n",
              "<style scoped>\n",
              "    .dataframe tbody tr th:only-of-type {\n",
              "        vertical-align: middle;\n",
              "    }\n",
              "\n",
              "    .dataframe tbody tr th {\n",
              "        vertical-align: top;\n",
              "    }\n",
              "\n",
              "    .dataframe thead th {\n",
              "        text-align: right;\n",
              "    }\n",
              "</style>\n",
              "<table border=\"1\" class=\"dataframe\">\n",
              "  <thead>\n",
              "    <tr style=\"text-align: right;\">\n",
              "      <th></th>\n",
              "      <th>Pregnancies</th>\n",
              "      <th>Glucose</th>\n",
              "      <th>BloodPressure</th>\n",
              "      <th>SkinThickness</th>\n",
              "      <th>Insulin</th>\n",
              "      <th>BMI</th>\n",
              "      <th>DiabetesPedigreeFunction</th>\n",
              "      <th>Age</th>\n",
              "      <th>Outcome</th>\n",
              "    </tr>\n",
              "  </thead>\n",
              "  <tbody>\n",
              "    <tr>\n",
              "      <th>0</th>\n",
              "      <td>6</td>\n",
              "      <td>148.0</td>\n",
              "      <td>72.0</td>\n",
              "      <td>35</td>\n",
              "      <td>0</td>\n",
              "      <td>33.6</td>\n",
              "      <td>0.627</td>\n",
              "      <td>50</td>\n",
              "      <td>1</td>\n",
              "    </tr>\n",
              "    <tr>\n",
              "      <th>1</th>\n",
              "      <td>1</td>\n",
              "      <td>85.0</td>\n",
              "      <td>66.0</td>\n",
              "      <td>29</td>\n",
              "      <td>0</td>\n",
              "      <td>26.6</td>\n",
              "      <td>0.351</td>\n",
              "      <td>31</td>\n",
              "      <td>0</td>\n",
              "    </tr>\n",
              "    <tr>\n",
              "      <th>2</th>\n",
              "      <td>8</td>\n",
              "      <td>183.0</td>\n",
              "      <td>64.0</td>\n",
              "      <td>0</td>\n",
              "      <td>0</td>\n",
              "      <td>23.3</td>\n",
              "      <td>0.672</td>\n",
              "      <td>32</td>\n",
              "      <td>1</td>\n",
              "    </tr>\n",
              "    <tr>\n",
              "      <th>3</th>\n",
              "      <td>1</td>\n",
              "      <td>NaN</td>\n",
              "      <td>NaN</td>\n",
              "      <td>23</td>\n",
              "      <td>94</td>\n",
              "      <td>28.1</td>\n",
              "      <td>0.167</td>\n",
              "      <td>21</td>\n",
              "      <td>0</td>\n",
              "    </tr>\n",
              "    <tr>\n",
              "      <th>4</th>\n",
              "      <td>0</td>\n",
              "      <td>137.0</td>\n",
              "      <td>40.0</td>\n",
              "      <td>35</td>\n",
              "      <td>168</td>\n",
              "      <td>43.1</td>\n",
              "      <td>2.288</td>\n",
              "      <td>33</td>\n",
              "      <td>1</td>\n",
              "    </tr>\n",
              "  </tbody>\n",
              "</table>\n",
              "</div>\n",
              "      <button class=\"colab-df-convert\" onclick=\"convertToInteractive('df-5b63cd9e-3315-45ee-ac80-9f521d587153')\"\n",
              "              title=\"Convert this dataframe to an interactive table.\"\n",
              "              style=\"display:none;\">\n",
              "\n",
              "  <svg xmlns=\"http://www.w3.org/2000/svg\" height=\"24px\"viewBox=\"0 0 24 24\"\n",
              "       width=\"24px\">\n",
              "    <path d=\"M0 0h24v24H0V0z\" fill=\"none\"/>\n",
              "    <path d=\"M18.56 5.44l.94 2.06.94-2.06 2.06-.94-2.06-.94-.94-2.06-.94 2.06-2.06.94zm-11 1L8.5 8.5l.94-2.06 2.06-.94-2.06-.94L8.5 2.5l-.94 2.06-2.06.94zm10 10l.94 2.06.94-2.06 2.06-.94-2.06-.94-.94-2.06-.94 2.06-2.06.94z\"/><path d=\"M17.41 7.96l-1.37-1.37c-.4-.4-.92-.59-1.43-.59-.52 0-1.04.2-1.43.59L10.3 9.45l-7.72 7.72c-.78.78-.78 2.05 0 2.83L4 21.41c.39.39.9.59 1.41.59.51 0 1.02-.2 1.41-.59l7.78-7.78 2.81-2.81c.8-.78.8-2.07 0-2.86zM5.41 20L4 18.59l7.72-7.72 1.47 1.35L5.41 20z\"/>\n",
              "  </svg>\n",
              "      </button>\n",
              "\n",
              "\n",
              "\n",
              "    <div id=\"df-3de0c310-76d9-4a07-afdb-c581dcdbafcb\">\n",
              "      <button class=\"colab-df-quickchart\" onclick=\"quickchart('df-3de0c310-76d9-4a07-afdb-c581dcdbafcb')\"\n",
              "              title=\"Suggest charts.\"\n",
              "              style=\"display:none;\">\n",
              "\n",
              "<svg xmlns=\"http://www.w3.org/2000/svg\" height=\"24px\"viewBox=\"0 0 24 24\"\n",
              "     width=\"24px\">\n",
              "    <g>\n",
              "        <path d=\"M19 3H5c-1.1 0-2 .9-2 2v14c0 1.1.9 2 2 2h14c1.1 0 2-.9 2-2V5c0-1.1-.9-2-2-2zM9 17H7v-7h2v7zm4 0h-2V7h2v10zm4 0h-2v-4h2v4z\"/>\n",
              "    </g>\n",
              "</svg>\n",
              "      </button>\n",
              "    </div>\n",
              "\n",
              "<style>\n",
              "  .colab-df-quickchart {\n",
              "    background-color: #E8F0FE;\n",
              "    border: none;\n",
              "    border-radius: 50%;\n",
              "    cursor: pointer;\n",
              "    display: none;\n",
              "    fill: #1967D2;\n",
              "    height: 32px;\n",
              "    padding: 0 0 0 0;\n",
              "    width: 32px;\n",
              "  }\n",
              "\n",
              "  .colab-df-quickchart:hover {\n",
              "    background-color: #E2EBFA;\n",
              "    box-shadow: 0px 1px 2px rgba(60, 64, 67, 0.3), 0px 1px 3px 1px rgba(60, 64, 67, 0.15);\n",
              "    fill: #174EA6;\n",
              "  }\n",
              "\n",
              "  [theme=dark] .colab-df-quickchart {\n",
              "    background-color: #3B4455;\n",
              "    fill: #D2E3FC;\n",
              "  }\n",
              "\n",
              "  [theme=dark] .colab-df-quickchart:hover {\n",
              "    background-color: #434B5C;\n",
              "    box-shadow: 0px 1px 3px 1px rgba(0, 0, 0, 0.15);\n",
              "    filter: drop-shadow(0px 1px 2px rgba(0, 0, 0, 0.3));\n",
              "    fill: #FFFFFF;\n",
              "  }\n",
              "</style>\n",
              "\n",
              "    <script>\n",
              "      async function quickchart(key) {\n",
              "        const containerElement = document.querySelector('#' + key);\n",
              "        const charts = await google.colab.kernel.invokeFunction(\n",
              "            'suggestCharts', [key], {});\n",
              "      }\n",
              "    </script>\n",
              "\n",
              "\n",
              "      <script>\n",
              "\n",
              "function displayQuickchartButton(domScope) {\n",
              "  let quickchartButtonEl =\n",
              "    domScope.querySelector('#df-3de0c310-76d9-4a07-afdb-c581dcdbafcb button.colab-df-quickchart');\n",
              "  quickchartButtonEl.style.display =\n",
              "    google.colab.kernel.accessAllowed ? 'block' : 'none';\n",
              "}\n",
              "\n",
              "        displayQuickchartButton(document);\n",
              "      </script>\n",
              "      <style>\n",
              "    .colab-df-container {\n",
              "      display:flex;\n",
              "      flex-wrap:wrap;\n",
              "      gap: 12px;\n",
              "    }\n",
              "\n",
              "    .colab-df-convert {\n",
              "      background-color: #E8F0FE;\n",
              "      border: none;\n",
              "      border-radius: 50%;\n",
              "      cursor: pointer;\n",
              "      display: none;\n",
              "      fill: #1967D2;\n",
              "      height: 32px;\n",
              "      padding: 0 0 0 0;\n",
              "      width: 32px;\n",
              "    }\n",
              "\n",
              "    .colab-df-convert:hover {\n",
              "      background-color: #E2EBFA;\n",
              "      box-shadow: 0px 1px 2px rgba(60, 64, 67, 0.3), 0px 1px 3px 1px rgba(60, 64, 67, 0.15);\n",
              "      fill: #174EA6;\n",
              "    }\n",
              "\n",
              "    [theme=dark] .colab-df-convert {\n",
              "      background-color: #3B4455;\n",
              "      fill: #D2E3FC;\n",
              "    }\n",
              "\n",
              "    [theme=dark] .colab-df-convert:hover {\n",
              "      background-color: #434B5C;\n",
              "      box-shadow: 0px 1px 3px 1px rgba(0, 0, 0, 0.15);\n",
              "      filter: drop-shadow(0px 1px 2px rgba(0, 0, 0, 0.3));\n",
              "      fill: #FFFFFF;\n",
              "    }\n",
              "  </style>\n",
              "\n",
              "      <script>\n",
              "        const buttonEl =\n",
              "          document.querySelector('#df-5b63cd9e-3315-45ee-ac80-9f521d587153 button.colab-df-convert');\n",
              "        buttonEl.style.display =\n",
              "          google.colab.kernel.accessAllowed ? 'block' : 'none';\n",
              "\n",
              "        async function convertToInteractive(key) {\n",
              "          const element = document.querySelector('#df-5b63cd9e-3315-45ee-ac80-9f521d587153');\n",
              "          const dataTable =\n",
              "            await google.colab.kernel.invokeFunction('convertToInteractive',\n",
              "                                                     [key], {});\n",
              "          if (!dataTable) return;\n",
              "\n",
              "          const docLinkHtml = 'Like what you see? Visit the ' +\n",
              "            '<a target=\"_blank\" href=https://colab.research.google.com/notebooks/data_table.ipynb>data table notebook</a>'\n",
              "            + ' to learn more about interactive tables.';\n",
              "          element.innerHTML = '';\n",
              "          dataTable['output_type'] = 'display_data';\n",
              "          await google.colab.output.renderOutput(dataTable, element);\n",
              "          const docLink = document.createElement('div');\n",
              "          docLink.innerHTML = docLinkHtml;\n",
              "          element.appendChild(docLink);\n",
              "        }\n",
              "      </script>\n",
              "    </div>\n",
              "  </div>\n"
            ]
          },
          "metadata": {},
          "execution_count": 7
        }
      ]
    },
    {
      "cell_type": "code",
      "source": [
        "# Remove the 'Outcome' column from the 'data' DataFrame and assign it to 'y'\n",
        "y = data.pop('Outcome')"
      ],
      "metadata": {
        "id": "4E5MdB0wvhLs"
      },
      "execution_count": 8,
      "outputs": []
    },
    {
      "cell_type": "code",
      "source": [
        "# Select columns from the 'data' DataFrame containing non-object (numerical) data and assign them to 'X'\n",
        "X = data.select_dtypes(exclude = ['object'])"
      ],
      "metadata": {
        "id": "kMeB2SeYwQxO"
      },
      "execution_count": 9,
      "outputs": []
    },
    {
      "cell_type": "code",
      "source": [
        "# Create a list of column names from the 'X' DataFrame\n",
        "column_names=list(X.columns)"
      ],
      "metadata": {
        "id": "BV2L1JoQx2VV"
      },
      "execution_count": 10,
      "outputs": []
    },
    {
      "cell_type": "code",
      "source": [
        "# Display the first few rows of the 'X' DataFrame\n",
        "X.head()"
      ],
      "metadata": {
        "colab": {
          "base_uri": "https://localhost:8080/",
          "height": 206
        },
        "id": "p50iDHIAx7cb",
        "outputId": "1b69937c-59bd-43d1-9dca-f447cbbd44a7"
      },
      "execution_count": 11,
      "outputs": [
        {
          "output_type": "execute_result",
          "data": {
            "text/plain": [
              "   Pregnancies  Glucose  BloodPressure  SkinThickness  Insulin   BMI  \\\n",
              "0            6    148.0           72.0             35        0  33.6   \n",
              "1            1     85.0           66.0             29        0  26.6   \n",
              "2            8    183.0           64.0              0        0  23.3   \n",
              "3            1      NaN            NaN             23       94  28.1   \n",
              "4            0    137.0           40.0             35      168  43.1   \n",
              "\n",
              "   DiabetesPedigreeFunction  Age  \n",
              "0                     0.627   50  \n",
              "1                     0.351   31  \n",
              "2                     0.672   32  \n",
              "3                     0.167   21  \n",
              "4                     2.288   33  "
            ],
            "text/html": [
              "\n",
              "\n",
              "  <div id=\"df-087ea9d3-920f-4a3a-805e-139360ea2384\">\n",
              "    <div class=\"colab-df-container\">\n",
              "      <div>\n",
              "<style scoped>\n",
              "    .dataframe tbody tr th:only-of-type {\n",
              "        vertical-align: middle;\n",
              "    }\n",
              "\n",
              "    .dataframe tbody tr th {\n",
              "        vertical-align: top;\n",
              "    }\n",
              "\n",
              "    .dataframe thead th {\n",
              "        text-align: right;\n",
              "    }\n",
              "</style>\n",
              "<table border=\"1\" class=\"dataframe\">\n",
              "  <thead>\n",
              "    <tr style=\"text-align: right;\">\n",
              "      <th></th>\n",
              "      <th>Pregnancies</th>\n",
              "      <th>Glucose</th>\n",
              "      <th>BloodPressure</th>\n",
              "      <th>SkinThickness</th>\n",
              "      <th>Insulin</th>\n",
              "      <th>BMI</th>\n",
              "      <th>DiabetesPedigreeFunction</th>\n",
              "      <th>Age</th>\n",
              "    </tr>\n",
              "  </thead>\n",
              "  <tbody>\n",
              "    <tr>\n",
              "      <th>0</th>\n",
              "      <td>6</td>\n",
              "      <td>148.0</td>\n",
              "      <td>72.0</td>\n",
              "      <td>35</td>\n",
              "      <td>0</td>\n",
              "      <td>33.6</td>\n",
              "      <td>0.627</td>\n",
              "      <td>50</td>\n",
              "    </tr>\n",
              "    <tr>\n",
              "      <th>1</th>\n",
              "      <td>1</td>\n",
              "      <td>85.0</td>\n",
              "      <td>66.0</td>\n",
              "      <td>29</td>\n",
              "      <td>0</td>\n",
              "      <td>26.6</td>\n",
              "      <td>0.351</td>\n",
              "      <td>31</td>\n",
              "    </tr>\n",
              "    <tr>\n",
              "      <th>2</th>\n",
              "      <td>8</td>\n",
              "      <td>183.0</td>\n",
              "      <td>64.0</td>\n",
              "      <td>0</td>\n",
              "      <td>0</td>\n",
              "      <td>23.3</td>\n",
              "      <td>0.672</td>\n",
              "      <td>32</td>\n",
              "    </tr>\n",
              "    <tr>\n",
              "      <th>3</th>\n",
              "      <td>1</td>\n",
              "      <td>NaN</td>\n",
              "      <td>NaN</td>\n",
              "      <td>23</td>\n",
              "      <td>94</td>\n",
              "      <td>28.1</td>\n",
              "      <td>0.167</td>\n",
              "      <td>21</td>\n",
              "    </tr>\n",
              "    <tr>\n",
              "      <th>4</th>\n",
              "      <td>0</td>\n",
              "      <td>137.0</td>\n",
              "      <td>40.0</td>\n",
              "      <td>35</td>\n",
              "      <td>168</td>\n",
              "      <td>43.1</td>\n",
              "      <td>2.288</td>\n",
              "      <td>33</td>\n",
              "    </tr>\n",
              "  </tbody>\n",
              "</table>\n",
              "</div>\n",
              "      <button class=\"colab-df-convert\" onclick=\"convertToInteractive('df-087ea9d3-920f-4a3a-805e-139360ea2384')\"\n",
              "              title=\"Convert this dataframe to an interactive table.\"\n",
              "              style=\"display:none;\">\n",
              "\n",
              "  <svg xmlns=\"http://www.w3.org/2000/svg\" height=\"24px\"viewBox=\"0 0 24 24\"\n",
              "       width=\"24px\">\n",
              "    <path d=\"M0 0h24v24H0V0z\" fill=\"none\"/>\n",
              "    <path d=\"M18.56 5.44l.94 2.06.94-2.06 2.06-.94-2.06-.94-.94-2.06-.94 2.06-2.06.94zm-11 1L8.5 8.5l.94-2.06 2.06-.94-2.06-.94L8.5 2.5l-.94 2.06-2.06.94zm10 10l.94 2.06.94-2.06 2.06-.94-2.06-.94-.94-2.06-.94 2.06-2.06.94z\"/><path d=\"M17.41 7.96l-1.37-1.37c-.4-.4-.92-.59-1.43-.59-.52 0-1.04.2-1.43.59L10.3 9.45l-7.72 7.72c-.78.78-.78 2.05 0 2.83L4 21.41c.39.39.9.59 1.41.59.51 0 1.02-.2 1.41-.59l7.78-7.78 2.81-2.81c.8-.78.8-2.07 0-2.86zM5.41 20L4 18.59l7.72-7.72 1.47 1.35L5.41 20z\"/>\n",
              "  </svg>\n",
              "      </button>\n",
              "\n",
              "\n",
              "\n",
              "    <div id=\"df-5d75c936-9370-47e2-ad56-3ceee2ae349d\">\n",
              "      <button class=\"colab-df-quickchart\" onclick=\"quickchart('df-5d75c936-9370-47e2-ad56-3ceee2ae349d')\"\n",
              "              title=\"Suggest charts.\"\n",
              "              style=\"display:none;\">\n",
              "\n",
              "<svg xmlns=\"http://www.w3.org/2000/svg\" height=\"24px\"viewBox=\"0 0 24 24\"\n",
              "     width=\"24px\">\n",
              "    <g>\n",
              "        <path d=\"M19 3H5c-1.1 0-2 .9-2 2v14c0 1.1.9 2 2 2h14c1.1 0 2-.9 2-2V5c0-1.1-.9-2-2-2zM9 17H7v-7h2v7zm4 0h-2V7h2v10zm4 0h-2v-4h2v4z\"/>\n",
              "    </g>\n",
              "</svg>\n",
              "      </button>\n",
              "    </div>\n",
              "\n",
              "<style>\n",
              "  .colab-df-quickchart {\n",
              "    background-color: #E8F0FE;\n",
              "    border: none;\n",
              "    border-radius: 50%;\n",
              "    cursor: pointer;\n",
              "    display: none;\n",
              "    fill: #1967D2;\n",
              "    height: 32px;\n",
              "    padding: 0 0 0 0;\n",
              "    width: 32px;\n",
              "  }\n",
              "\n",
              "  .colab-df-quickchart:hover {\n",
              "    background-color: #E2EBFA;\n",
              "    box-shadow: 0px 1px 2px rgba(60, 64, 67, 0.3), 0px 1px 3px 1px rgba(60, 64, 67, 0.15);\n",
              "    fill: #174EA6;\n",
              "  }\n",
              "\n",
              "  [theme=dark] .colab-df-quickchart {\n",
              "    background-color: #3B4455;\n",
              "    fill: #D2E3FC;\n",
              "  }\n",
              "\n",
              "  [theme=dark] .colab-df-quickchart:hover {\n",
              "    background-color: #434B5C;\n",
              "    box-shadow: 0px 1px 3px 1px rgba(0, 0, 0, 0.15);\n",
              "    filter: drop-shadow(0px 1px 2px rgba(0, 0, 0, 0.3));\n",
              "    fill: #FFFFFF;\n",
              "  }\n",
              "</style>\n",
              "\n",
              "    <script>\n",
              "      async function quickchart(key) {\n",
              "        const containerElement = document.querySelector('#' + key);\n",
              "        const charts = await google.colab.kernel.invokeFunction(\n",
              "            'suggestCharts', [key], {});\n",
              "      }\n",
              "    </script>\n",
              "\n",
              "\n",
              "      <script>\n",
              "\n",
              "function displayQuickchartButton(domScope) {\n",
              "  let quickchartButtonEl =\n",
              "    domScope.querySelector('#df-5d75c936-9370-47e2-ad56-3ceee2ae349d button.colab-df-quickchart');\n",
              "  quickchartButtonEl.style.display =\n",
              "    google.colab.kernel.accessAllowed ? 'block' : 'none';\n",
              "}\n",
              "\n",
              "        displayQuickchartButton(document);\n",
              "      </script>\n",
              "      <style>\n",
              "    .colab-df-container {\n",
              "      display:flex;\n",
              "      flex-wrap:wrap;\n",
              "      gap: 12px;\n",
              "    }\n",
              "\n",
              "    .colab-df-convert {\n",
              "      background-color: #E8F0FE;\n",
              "      border: none;\n",
              "      border-radius: 50%;\n",
              "      cursor: pointer;\n",
              "      display: none;\n",
              "      fill: #1967D2;\n",
              "      height: 32px;\n",
              "      padding: 0 0 0 0;\n",
              "      width: 32px;\n",
              "    }\n",
              "\n",
              "    .colab-df-convert:hover {\n",
              "      background-color: #E2EBFA;\n",
              "      box-shadow: 0px 1px 2px rgba(60, 64, 67, 0.3), 0px 1px 3px 1px rgba(60, 64, 67, 0.15);\n",
              "      fill: #174EA6;\n",
              "    }\n",
              "\n",
              "    [theme=dark] .colab-df-convert {\n",
              "      background-color: #3B4455;\n",
              "      fill: #D2E3FC;\n",
              "    }\n",
              "\n",
              "    [theme=dark] .colab-df-convert:hover {\n",
              "      background-color: #434B5C;\n",
              "      box-shadow: 0px 1px 3px 1px rgba(0, 0, 0, 0.15);\n",
              "      filter: drop-shadow(0px 1px 2px rgba(0, 0, 0, 0.3));\n",
              "      fill: #FFFFFF;\n",
              "    }\n",
              "  </style>\n",
              "\n",
              "      <script>\n",
              "        const buttonEl =\n",
              "          document.querySelector('#df-087ea9d3-920f-4a3a-805e-139360ea2384 button.colab-df-convert');\n",
              "        buttonEl.style.display =\n",
              "          google.colab.kernel.accessAllowed ? 'block' : 'none';\n",
              "\n",
              "        async function convertToInteractive(key) {\n",
              "          const element = document.querySelector('#df-087ea9d3-920f-4a3a-805e-139360ea2384');\n",
              "          const dataTable =\n",
              "            await google.colab.kernel.invokeFunction('convertToInteractive',\n",
              "                                                     [key], {});\n",
              "          if (!dataTable) return;\n",
              "\n",
              "          const docLinkHtml = 'Like what you see? Visit the ' +\n",
              "            '<a target=\"_blank\" href=https://colab.research.google.com/notebooks/data_table.ipynb>data table notebook</a>'\n",
              "            + ' to learn more about interactive tables.';\n",
              "          element.innerHTML = '';\n",
              "          dataTable['output_type'] = 'display_data';\n",
              "          await google.colab.output.renderOutput(dataTable, element);\n",
              "          const docLink = document.createElement('div');\n",
              "          docLink.innerHTML = docLinkHtml;\n",
              "          element.appendChild(docLink);\n",
              "        }\n",
              "      </script>\n",
              "    </div>\n",
              "  </div>\n"
            ]
          },
          "metadata": {},
          "execution_count": 11
        }
      ]
    },
    {
      "cell_type": "code",
      "source": [
        "# Calculate and display the total count of missing values in the 'X' DataFrame\n",
        "X.isnull().sum().sum()"
      ],
      "metadata": {
        "colab": {
          "base_uri": "https://localhost:8080/"
        },
        "id": "Ym-mvAISx93H",
        "outputId": "1dc3834e-cd29-4956-8a3a-deab9880ecdd"
      },
      "execution_count": 12,
      "outputs": [
        {
          "output_type": "execute_result",
          "data": {
            "text/plain": [
              "25"
            ]
          },
          "metadata": {},
          "execution_count": 12
        }
      ]
    },
    {
      "cell_type": "code",
      "source": [
        "# Create a SimpleImputer instance with the strategy 'median' and fit it to the 'X' DataFrame\n",
        "si = SimpleImputer(strategy = 'median')\n",
        "si.fit(X)"
      ],
      "metadata": {
        "colab": {
          "base_uri": "https://localhost:8080/",
          "height": 74
        },
        "id": "PNoD27p7yFQt",
        "outputId": "b2e49b2c-4bef-4acd-8d43-e105f93d8fef"
      },
      "execution_count": 13,
      "outputs": [
        {
          "output_type": "execute_result",
          "data": {
            "text/plain": [
              "SimpleImputer(strategy='median')"
            ],
            "text/html": [
              "<style>#sk-container-id-1 {color: black;background-color: white;}#sk-container-id-1 pre{padding: 0;}#sk-container-id-1 div.sk-toggleable {background-color: white;}#sk-container-id-1 label.sk-toggleable__label {cursor: pointer;display: block;width: 100%;margin-bottom: 0;padding: 0.3em;box-sizing: border-box;text-align: center;}#sk-container-id-1 label.sk-toggleable__label-arrow:before {content: \"▸\";float: left;margin-right: 0.25em;color: #696969;}#sk-container-id-1 label.sk-toggleable__label-arrow:hover:before {color: black;}#sk-container-id-1 div.sk-estimator:hover label.sk-toggleable__label-arrow:before {color: black;}#sk-container-id-1 div.sk-toggleable__content {max-height: 0;max-width: 0;overflow: hidden;text-align: left;background-color: #f0f8ff;}#sk-container-id-1 div.sk-toggleable__content pre {margin: 0.2em;color: black;border-radius: 0.25em;background-color: #f0f8ff;}#sk-container-id-1 input.sk-toggleable__control:checked~div.sk-toggleable__content {max-height: 200px;max-width: 100%;overflow: auto;}#sk-container-id-1 input.sk-toggleable__control:checked~label.sk-toggleable__label-arrow:before {content: \"▾\";}#sk-container-id-1 div.sk-estimator input.sk-toggleable__control:checked~label.sk-toggleable__label {background-color: #d4ebff;}#sk-container-id-1 div.sk-label input.sk-toggleable__control:checked~label.sk-toggleable__label {background-color: #d4ebff;}#sk-container-id-1 input.sk-hidden--visually {border: 0;clip: rect(1px 1px 1px 1px);clip: rect(1px, 1px, 1px, 1px);height: 1px;margin: -1px;overflow: hidden;padding: 0;position: absolute;width: 1px;}#sk-container-id-1 div.sk-estimator {font-family: monospace;background-color: #f0f8ff;border: 1px dotted black;border-radius: 0.25em;box-sizing: border-box;margin-bottom: 0.5em;}#sk-container-id-1 div.sk-estimator:hover {background-color: #d4ebff;}#sk-container-id-1 div.sk-parallel-item::after {content: \"\";width: 100%;border-bottom: 1px solid gray;flex-grow: 1;}#sk-container-id-1 div.sk-label:hover label.sk-toggleable__label {background-color: #d4ebff;}#sk-container-id-1 div.sk-serial::before {content: \"\";position: absolute;border-left: 1px solid gray;box-sizing: border-box;top: 0;bottom: 0;left: 50%;z-index: 0;}#sk-container-id-1 div.sk-serial {display: flex;flex-direction: column;align-items: center;background-color: white;padding-right: 0.2em;padding-left: 0.2em;position: relative;}#sk-container-id-1 div.sk-item {position: relative;z-index: 1;}#sk-container-id-1 div.sk-parallel {display: flex;align-items: stretch;justify-content: center;background-color: white;position: relative;}#sk-container-id-1 div.sk-item::before, #sk-container-id-1 div.sk-parallel-item::before {content: \"\";position: absolute;border-left: 1px solid gray;box-sizing: border-box;top: 0;bottom: 0;left: 50%;z-index: -1;}#sk-container-id-1 div.sk-parallel-item {display: flex;flex-direction: column;z-index: 1;position: relative;background-color: white;}#sk-container-id-1 div.sk-parallel-item:first-child::after {align-self: flex-end;width: 50%;}#sk-container-id-1 div.sk-parallel-item:last-child::after {align-self: flex-start;width: 50%;}#sk-container-id-1 div.sk-parallel-item:only-child::after {width: 0;}#sk-container-id-1 div.sk-dashed-wrapped {border: 1px dashed gray;margin: 0 0.4em 0.5em 0.4em;box-sizing: border-box;padding-bottom: 0.4em;background-color: white;}#sk-container-id-1 div.sk-label label {font-family: monospace;font-weight: bold;display: inline-block;line-height: 1.2em;}#sk-container-id-1 div.sk-label-container {text-align: center;}#sk-container-id-1 div.sk-container {/* jupyter's `normalize.less` sets `[hidden] { display: none; }` but bootstrap.min.css set `[hidden] { display: none !important; }` so we also need the `!important` here to be able to override the default hidden behavior on the sphinx rendered scikit-learn.org. See: https://github.com/scikit-learn/scikit-learn/issues/21755 */display: inline-block !important;position: relative;}#sk-container-id-1 div.sk-text-repr-fallback {display: none;}</style><div id=\"sk-container-id-1\" class=\"sk-top-container\"><div class=\"sk-text-repr-fallback\"><pre>SimpleImputer(strategy=&#x27;median&#x27;)</pre><b>In a Jupyter environment, please rerun this cell to show the HTML representation or trust the notebook. <br />On GitHub, the HTML representation is unable to render, please try loading this page with nbviewer.org.</b></div><div class=\"sk-container\" hidden><div class=\"sk-item\"><div class=\"sk-estimator sk-toggleable\"><input class=\"sk-toggleable__control sk-hidden--visually\" id=\"sk-estimator-id-1\" type=\"checkbox\" checked><label for=\"sk-estimator-id-1\" class=\"sk-toggleable__label sk-toggleable__label-arrow\">SimpleImputer</label><div class=\"sk-toggleable__content\"><pre>SimpleImputer(strategy=&#x27;median&#x27;)</pre></div></div></div></div></div>"
            ]
          },
          "metadata": {},
          "execution_count": 13
        }
      ]
    },
    {
      "cell_type": "code",
      "source": [
        "# Transform the 'X' DataFrame using the fitted SimpleImputer instance 'si' to replace missing values with medians\n",
        "X=si.transform(X)"
      ],
      "metadata": {
        "id": "Tu5AiWHSyJ5u"
      },
      "execution_count": 14,
      "outputs": []
    },
    {
      "cell_type": "code",
      "source": [
        "# Create a new DataFrame 'X' using the transformed data 'X', with column names from 'column_names'\n",
        "X=pd.DataFrame(X,columns=column_names)"
      ],
      "metadata": {
        "id": "kgHQmOQ7yNKH"
      },
      "execution_count": 15,
      "outputs": []
    },
    {
      "cell_type": "code",
      "source": [
        "type(X)  # Display the data type of the DataFrame 'X'"
      ],
      "metadata": {
        "colab": {
          "base_uri": "https://localhost:8080/"
        },
        "id": "bQFW4tQ6yO23",
        "outputId": "68909d5b-d50c-4f91-9892-1b9af87f574a"
      },
      "execution_count": 16,
      "outputs": [
        {
          "output_type": "execute_result",
          "data": {
            "text/plain": [
              "pandas.core.frame.DataFrame"
            ]
          },
          "metadata": {},
          "execution_count": 16
        }
      ]
    },
    {
      "cell_type": "code",
      "source": [
        "# Calculate and display the total count of missing values in the DataFrame 'X' after imputation\n",
        "X.isnull().sum().sum()"
      ],
      "metadata": {
        "colab": {
          "base_uri": "https://localhost:8080/"
        },
        "id": "HGcINrjmyRFG",
        "outputId": "ae44bf0c-1d64-4403-da33-30f8a986071b"
      },
      "execution_count": 17,
      "outputs": [
        {
          "output_type": "execute_result",
          "data": {
            "text/plain": [
              "0"
            ]
          },
          "metadata": {},
          "execution_count": 17
        }
      ]
    },
    {
      "cell_type": "code",
      "source": [
        "# Create a RandomForestClassifier instance named 'rf'\n",
        "rf = RandomForestClassifier()"
      ],
      "metadata": {
        "id": "p83m7uGtyTH0"
      },
      "execution_count": 18,
      "outputs": []
    },
    {
      "cell_type": "code",
      "source": [
        "# Train the RandomForestClassifier 'rf' using the predictors 'X' and the target 'y'\n",
        "rf.fit(X,y)"
      ],
      "metadata": {
        "colab": {
          "base_uri": "https://localhost:8080/",
          "height": 74
        },
        "id": "vA_CaDUcyU-M",
        "outputId": "db3651ea-72cb-40bd-ef71-4a7f5f16529f"
      },
      "execution_count": 19,
      "outputs": [
        {
          "output_type": "execute_result",
          "data": {
            "text/plain": [
              "RandomForestClassifier()"
            ],
            "text/html": [
              "<style>#sk-container-id-2 {color: black;background-color: white;}#sk-container-id-2 pre{padding: 0;}#sk-container-id-2 div.sk-toggleable {background-color: white;}#sk-container-id-2 label.sk-toggleable__label {cursor: pointer;display: block;width: 100%;margin-bottom: 0;padding: 0.3em;box-sizing: border-box;text-align: center;}#sk-container-id-2 label.sk-toggleable__label-arrow:before {content: \"▸\";float: left;margin-right: 0.25em;color: #696969;}#sk-container-id-2 label.sk-toggleable__label-arrow:hover:before {color: black;}#sk-container-id-2 div.sk-estimator:hover label.sk-toggleable__label-arrow:before {color: black;}#sk-container-id-2 div.sk-toggleable__content {max-height: 0;max-width: 0;overflow: hidden;text-align: left;background-color: #f0f8ff;}#sk-container-id-2 div.sk-toggleable__content pre {margin: 0.2em;color: black;border-radius: 0.25em;background-color: #f0f8ff;}#sk-container-id-2 input.sk-toggleable__control:checked~div.sk-toggleable__content {max-height: 200px;max-width: 100%;overflow: auto;}#sk-container-id-2 input.sk-toggleable__control:checked~label.sk-toggleable__label-arrow:before {content: \"▾\";}#sk-container-id-2 div.sk-estimator input.sk-toggleable__control:checked~label.sk-toggleable__label {background-color: #d4ebff;}#sk-container-id-2 div.sk-label input.sk-toggleable__control:checked~label.sk-toggleable__label {background-color: #d4ebff;}#sk-container-id-2 input.sk-hidden--visually {border: 0;clip: rect(1px 1px 1px 1px);clip: rect(1px, 1px, 1px, 1px);height: 1px;margin: -1px;overflow: hidden;padding: 0;position: absolute;width: 1px;}#sk-container-id-2 div.sk-estimator {font-family: monospace;background-color: #f0f8ff;border: 1px dotted black;border-radius: 0.25em;box-sizing: border-box;margin-bottom: 0.5em;}#sk-container-id-2 div.sk-estimator:hover {background-color: #d4ebff;}#sk-container-id-2 div.sk-parallel-item::after {content: \"\";width: 100%;border-bottom: 1px solid gray;flex-grow: 1;}#sk-container-id-2 div.sk-label:hover label.sk-toggleable__label {background-color: #d4ebff;}#sk-container-id-2 div.sk-serial::before {content: \"\";position: absolute;border-left: 1px solid gray;box-sizing: border-box;top: 0;bottom: 0;left: 50%;z-index: 0;}#sk-container-id-2 div.sk-serial {display: flex;flex-direction: column;align-items: center;background-color: white;padding-right: 0.2em;padding-left: 0.2em;position: relative;}#sk-container-id-2 div.sk-item {position: relative;z-index: 1;}#sk-container-id-2 div.sk-parallel {display: flex;align-items: stretch;justify-content: center;background-color: white;position: relative;}#sk-container-id-2 div.sk-item::before, #sk-container-id-2 div.sk-parallel-item::before {content: \"\";position: absolute;border-left: 1px solid gray;box-sizing: border-box;top: 0;bottom: 0;left: 50%;z-index: -1;}#sk-container-id-2 div.sk-parallel-item {display: flex;flex-direction: column;z-index: 1;position: relative;background-color: white;}#sk-container-id-2 div.sk-parallel-item:first-child::after {align-self: flex-end;width: 50%;}#sk-container-id-2 div.sk-parallel-item:last-child::after {align-self: flex-start;width: 50%;}#sk-container-id-2 div.sk-parallel-item:only-child::after {width: 0;}#sk-container-id-2 div.sk-dashed-wrapped {border: 1px dashed gray;margin: 0 0.4em 0.5em 0.4em;box-sizing: border-box;padding-bottom: 0.4em;background-color: white;}#sk-container-id-2 div.sk-label label {font-family: monospace;font-weight: bold;display: inline-block;line-height: 1.2em;}#sk-container-id-2 div.sk-label-container {text-align: center;}#sk-container-id-2 div.sk-container {/* jupyter's `normalize.less` sets `[hidden] { display: none; }` but bootstrap.min.css set `[hidden] { display: none !important; }` so we also need the `!important` here to be able to override the default hidden behavior on the sphinx rendered scikit-learn.org. See: https://github.com/scikit-learn/scikit-learn/issues/21755 */display: inline-block !important;position: relative;}#sk-container-id-2 div.sk-text-repr-fallback {display: none;}</style><div id=\"sk-container-id-2\" class=\"sk-top-container\"><div class=\"sk-text-repr-fallback\"><pre>RandomForestClassifier()</pre><b>In a Jupyter environment, please rerun this cell to show the HTML representation or trust the notebook. <br />On GitHub, the HTML representation is unable to render, please try loading this page with nbviewer.org.</b></div><div class=\"sk-container\" hidden><div class=\"sk-item\"><div class=\"sk-estimator sk-toggleable\"><input class=\"sk-toggleable__control sk-hidden--visually\" id=\"sk-estimator-id-2\" type=\"checkbox\" checked><label for=\"sk-estimator-id-2\" class=\"sk-toggleable__label sk-toggleable__label-arrow\">RandomForestClassifier</label><div class=\"sk-toggleable__content\"><pre>RandomForestClassifier()</pre></div></div></div></div></div>"
            ]
          },
          "metadata": {},
          "execution_count": 19
        }
      ]
    },
    {
      "cell_type": "code",
      "source": [
        "# Use the trained RandomForestClassifier 'rf' to make predictions on the predictors 'X' and store the predictions in 's'\n",
        "s=rf.predict(X)"
      ],
      "metadata": {
        "id": "OzDOQtz9yWts"
      },
      "execution_count": 20,
      "outputs": []
    },
    {
      "cell_type": "code",
      "source": [
        "# Calculate and display the accuracy of the RandomForestClassifier predictions 's' by comparing them to the target 'y'\n",
        "(s==y).sum()/X.shape[0]"
      ],
      "metadata": {
        "colab": {
          "base_uri": "https://localhost:8080/"
        },
        "id": "hnz-QD3xydcO",
        "outputId": "92accd07-90b8-45d2-9d56-6ef5906b9a6f"
      },
      "execution_count": 21,
      "outputs": [
        {
          "output_type": "execute_result",
          "data": {
            "text/plain": [
              "1.0"
            ]
          },
          "metadata": {},
          "execution_count": 21
        }
      ]
    },
    {
      "cell_type": "code",
      "source": [
        "# Split the data into training and testing sets: 75% for training and 25% for testing\n",
        "X_train,X_test,y_train,y_test=train_test_split(X,y,test_size=0.25)"
      ],
      "metadata": {
        "id": "NcU9R8GTyfn-"
      },
      "execution_count": 22,
      "outputs": []
    },
    {
      "cell_type": "code",
      "source": [
        "# Import necessary classes for data preprocessing: StandardScaler for feature scaling and PCA for dimensionality reduction\n",
        "from sklearn.preprocessing import StandardScaler\n",
        "from sklearn.decomposition import PCA"
      ],
      "metadata": {
        "id": "6Jw19T2UyjUc"
      },
      "execution_count": 23,
      "outputs": []
    },
    {
      "cell_type": "code",
      "source": [
        "# Create a machine learning pipeline: Impute missing values, standardize features, perform PCA with 95% variance, and use a RandomForestClassifier\n",
        "pipe=make_pipeline(SimpleImputer(strategy='median'),StandardScaler(),PCA(n_components=0.95),RandomForestClassifier())"
      ],
      "metadata": {
        "id": "PWLJilQGyln4"
      },
      "execution_count": 24,
      "outputs": []
    },
    {
      "cell_type": "code",
      "source": [
        "# Fit the machine learning pipeline 'pipe' using the training data 'X_train' and corresponding target 'y_train'\n",
        "pipe.fit(X_train,y_train)"
      ],
      "metadata": {
        "colab": {
          "base_uri": "https://localhost:8080/",
          "height": 192
        },
        "id": "gkaN6yQQynWX",
        "outputId": "0987d2c4-49b4-4281-ee21-804c13196297"
      },
      "execution_count": 25,
      "outputs": [
        {
          "output_type": "execute_result",
          "data": {
            "text/plain": [
              "Pipeline(steps=[('simpleimputer', SimpleImputer(strategy='median')),\n",
              "                ('standardscaler', StandardScaler()),\n",
              "                ('pca', PCA(n_components=0.95)),\n",
              "                ('randomforestclassifier', RandomForestClassifier())])"
            ],
            "text/html": [
              "<style>#sk-container-id-3 {color: black;background-color: white;}#sk-container-id-3 pre{padding: 0;}#sk-container-id-3 div.sk-toggleable {background-color: white;}#sk-container-id-3 label.sk-toggleable__label {cursor: pointer;display: block;width: 100%;margin-bottom: 0;padding: 0.3em;box-sizing: border-box;text-align: center;}#sk-container-id-3 label.sk-toggleable__label-arrow:before {content: \"▸\";float: left;margin-right: 0.25em;color: #696969;}#sk-container-id-3 label.sk-toggleable__label-arrow:hover:before {color: black;}#sk-container-id-3 div.sk-estimator:hover label.sk-toggleable__label-arrow:before {color: black;}#sk-container-id-3 div.sk-toggleable__content {max-height: 0;max-width: 0;overflow: hidden;text-align: left;background-color: #f0f8ff;}#sk-container-id-3 div.sk-toggleable__content pre {margin: 0.2em;color: black;border-radius: 0.25em;background-color: #f0f8ff;}#sk-container-id-3 input.sk-toggleable__control:checked~div.sk-toggleable__content {max-height: 200px;max-width: 100%;overflow: auto;}#sk-container-id-3 input.sk-toggleable__control:checked~label.sk-toggleable__label-arrow:before {content: \"▾\";}#sk-container-id-3 div.sk-estimator input.sk-toggleable__control:checked~label.sk-toggleable__label {background-color: #d4ebff;}#sk-container-id-3 div.sk-label input.sk-toggleable__control:checked~label.sk-toggleable__label {background-color: #d4ebff;}#sk-container-id-3 input.sk-hidden--visually {border: 0;clip: rect(1px 1px 1px 1px);clip: rect(1px, 1px, 1px, 1px);height: 1px;margin: -1px;overflow: hidden;padding: 0;position: absolute;width: 1px;}#sk-container-id-3 div.sk-estimator {font-family: monospace;background-color: #f0f8ff;border: 1px dotted black;border-radius: 0.25em;box-sizing: border-box;margin-bottom: 0.5em;}#sk-container-id-3 div.sk-estimator:hover {background-color: #d4ebff;}#sk-container-id-3 div.sk-parallel-item::after {content: \"\";width: 100%;border-bottom: 1px solid gray;flex-grow: 1;}#sk-container-id-3 div.sk-label:hover label.sk-toggleable__label {background-color: #d4ebff;}#sk-container-id-3 div.sk-serial::before {content: \"\";position: absolute;border-left: 1px solid gray;box-sizing: border-box;top: 0;bottom: 0;left: 50%;z-index: 0;}#sk-container-id-3 div.sk-serial {display: flex;flex-direction: column;align-items: center;background-color: white;padding-right: 0.2em;padding-left: 0.2em;position: relative;}#sk-container-id-3 div.sk-item {position: relative;z-index: 1;}#sk-container-id-3 div.sk-parallel {display: flex;align-items: stretch;justify-content: center;background-color: white;position: relative;}#sk-container-id-3 div.sk-item::before, #sk-container-id-3 div.sk-parallel-item::before {content: \"\";position: absolute;border-left: 1px solid gray;box-sizing: border-box;top: 0;bottom: 0;left: 50%;z-index: -1;}#sk-container-id-3 div.sk-parallel-item {display: flex;flex-direction: column;z-index: 1;position: relative;background-color: white;}#sk-container-id-3 div.sk-parallel-item:first-child::after {align-self: flex-end;width: 50%;}#sk-container-id-3 div.sk-parallel-item:last-child::after {align-self: flex-start;width: 50%;}#sk-container-id-3 div.sk-parallel-item:only-child::after {width: 0;}#sk-container-id-3 div.sk-dashed-wrapped {border: 1px dashed gray;margin: 0 0.4em 0.5em 0.4em;box-sizing: border-box;padding-bottom: 0.4em;background-color: white;}#sk-container-id-3 div.sk-label label {font-family: monospace;font-weight: bold;display: inline-block;line-height: 1.2em;}#sk-container-id-3 div.sk-label-container {text-align: center;}#sk-container-id-3 div.sk-container {/* jupyter's `normalize.less` sets `[hidden] { display: none; }` but bootstrap.min.css set `[hidden] { display: none !important; }` so we also need the `!important` here to be able to override the default hidden behavior on the sphinx rendered scikit-learn.org. See: https://github.com/scikit-learn/scikit-learn/issues/21755 */display: inline-block !important;position: relative;}#sk-container-id-3 div.sk-text-repr-fallback {display: none;}</style><div id=\"sk-container-id-3\" class=\"sk-top-container\"><div class=\"sk-text-repr-fallback\"><pre>Pipeline(steps=[(&#x27;simpleimputer&#x27;, SimpleImputer(strategy=&#x27;median&#x27;)),\n",
              "                (&#x27;standardscaler&#x27;, StandardScaler()),\n",
              "                (&#x27;pca&#x27;, PCA(n_components=0.95)),\n",
              "                (&#x27;randomforestclassifier&#x27;, RandomForestClassifier())])</pre><b>In a Jupyter environment, please rerun this cell to show the HTML representation or trust the notebook. <br />On GitHub, the HTML representation is unable to render, please try loading this page with nbviewer.org.</b></div><div class=\"sk-container\" hidden><div class=\"sk-item sk-dashed-wrapped\"><div class=\"sk-label-container\"><div class=\"sk-label sk-toggleable\"><input class=\"sk-toggleable__control sk-hidden--visually\" id=\"sk-estimator-id-3\" type=\"checkbox\" ><label for=\"sk-estimator-id-3\" class=\"sk-toggleable__label sk-toggleable__label-arrow\">Pipeline</label><div class=\"sk-toggleable__content\"><pre>Pipeline(steps=[(&#x27;simpleimputer&#x27;, SimpleImputer(strategy=&#x27;median&#x27;)),\n",
              "                (&#x27;standardscaler&#x27;, StandardScaler()),\n",
              "                (&#x27;pca&#x27;, PCA(n_components=0.95)),\n",
              "                (&#x27;randomforestclassifier&#x27;, RandomForestClassifier())])</pre></div></div></div><div class=\"sk-serial\"><div class=\"sk-item\"><div class=\"sk-estimator sk-toggleable\"><input class=\"sk-toggleable__control sk-hidden--visually\" id=\"sk-estimator-id-4\" type=\"checkbox\" ><label for=\"sk-estimator-id-4\" class=\"sk-toggleable__label sk-toggleable__label-arrow\">SimpleImputer</label><div class=\"sk-toggleable__content\"><pre>SimpleImputer(strategy=&#x27;median&#x27;)</pre></div></div></div><div class=\"sk-item\"><div class=\"sk-estimator sk-toggleable\"><input class=\"sk-toggleable__control sk-hidden--visually\" id=\"sk-estimator-id-5\" type=\"checkbox\" ><label for=\"sk-estimator-id-5\" class=\"sk-toggleable__label sk-toggleable__label-arrow\">StandardScaler</label><div class=\"sk-toggleable__content\"><pre>StandardScaler()</pre></div></div></div><div class=\"sk-item\"><div class=\"sk-estimator sk-toggleable\"><input class=\"sk-toggleable__control sk-hidden--visually\" id=\"sk-estimator-id-6\" type=\"checkbox\" ><label for=\"sk-estimator-id-6\" class=\"sk-toggleable__label sk-toggleable__label-arrow\">PCA</label><div class=\"sk-toggleable__content\"><pre>PCA(n_components=0.95)</pre></div></div></div><div class=\"sk-item\"><div class=\"sk-estimator sk-toggleable\"><input class=\"sk-toggleable__control sk-hidden--visually\" id=\"sk-estimator-id-7\" type=\"checkbox\" ><label for=\"sk-estimator-id-7\" class=\"sk-toggleable__label sk-toggleable__label-arrow\">RandomForestClassifier</label><div class=\"sk-toggleable__content\"><pre>RandomForestClassifier()</pre></div></div></div></div></div></div></div>"
            ]
          },
          "metadata": {},
          "execution_count": 25
        }
      ]
    },
    {
      "cell_type": "code",
      "source": [
        "# Use the trained pipeline 'pipe' to make predictions on the testing data 'X_test' and store the predictions in 'pred'\n",
        "pred=pipe.predict(X_test)"
      ],
      "metadata": {
        "id": "QoS3FG4hypfM"
      },
      "execution_count": 26,
      "outputs": []
    },
    {
      "cell_type": "code",
      "source": [
        "# Calculate and display the accuracy of pipeline predictions 'pred' by comparing them to the actual test targets 'y_test'\n",
        "(pred == y_test).sum()/len(y_test)"
      ],
      "metadata": {
        "colab": {
          "base_uri": "https://localhost:8080/"
        },
        "id": "pXSzloedyukJ",
        "outputId": "b5b686e2-da52-44a3-a4fb-bbc77659f6ce"
      },
      "execution_count": 27,
      "outputs": [
        {
          "output_type": "execute_result",
          "data": {
            "text/plain": [
              "0.7291666666666666"
            ]
          },
          "metadata": {},
          "execution_count": 27
        }
      ]
    },
    {
      "cell_type": "markdown",
      "source": [
        "The obtained accuracy of approximately 0.7396 (73.96%) implies that the pipeline's predictions ('pred') align with the actual test targets ('y_test') to a reasonable extent."
      ],
      "metadata": {
        "id": "ph5Fbfl_dP1t"
      }
    },
    {
      "cell_type": "code",
      "source": [
        "# Train the RandomForestClassifier 'rf' using the training predictors 'X_train' and corresponding target 'y_train'\n",
        "rf.fit(X_train,y_train)"
      ],
      "metadata": {
        "colab": {
          "base_uri": "https://localhost:8080/",
          "height": 74
        },
        "id": "QbK00dFeywb3",
        "outputId": "8c2ab07c-da86-400b-c340-a2dd060b856b"
      },
      "execution_count": 28,
      "outputs": [
        {
          "output_type": "execute_result",
          "data": {
            "text/plain": [
              "RandomForestClassifier()"
            ],
            "text/html": [
              "<style>#sk-container-id-4 {color: black;background-color: white;}#sk-container-id-4 pre{padding: 0;}#sk-container-id-4 div.sk-toggleable {background-color: white;}#sk-container-id-4 label.sk-toggleable__label {cursor: pointer;display: block;width: 100%;margin-bottom: 0;padding: 0.3em;box-sizing: border-box;text-align: center;}#sk-container-id-4 label.sk-toggleable__label-arrow:before {content: \"▸\";float: left;margin-right: 0.25em;color: #696969;}#sk-container-id-4 label.sk-toggleable__label-arrow:hover:before {color: black;}#sk-container-id-4 div.sk-estimator:hover label.sk-toggleable__label-arrow:before {color: black;}#sk-container-id-4 div.sk-toggleable__content {max-height: 0;max-width: 0;overflow: hidden;text-align: left;background-color: #f0f8ff;}#sk-container-id-4 div.sk-toggleable__content pre {margin: 0.2em;color: black;border-radius: 0.25em;background-color: #f0f8ff;}#sk-container-id-4 input.sk-toggleable__control:checked~div.sk-toggleable__content {max-height: 200px;max-width: 100%;overflow: auto;}#sk-container-id-4 input.sk-toggleable__control:checked~label.sk-toggleable__label-arrow:before {content: \"▾\";}#sk-container-id-4 div.sk-estimator input.sk-toggleable__control:checked~label.sk-toggleable__label {background-color: #d4ebff;}#sk-container-id-4 div.sk-label input.sk-toggleable__control:checked~label.sk-toggleable__label {background-color: #d4ebff;}#sk-container-id-4 input.sk-hidden--visually {border: 0;clip: rect(1px 1px 1px 1px);clip: rect(1px, 1px, 1px, 1px);height: 1px;margin: -1px;overflow: hidden;padding: 0;position: absolute;width: 1px;}#sk-container-id-4 div.sk-estimator {font-family: monospace;background-color: #f0f8ff;border: 1px dotted black;border-radius: 0.25em;box-sizing: border-box;margin-bottom: 0.5em;}#sk-container-id-4 div.sk-estimator:hover {background-color: #d4ebff;}#sk-container-id-4 div.sk-parallel-item::after {content: \"\";width: 100%;border-bottom: 1px solid gray;flex-grow: 1;}#sk-container-id-4 div.sk-label:hover label.sk-toggleable__label {background-color: #d4ebff;}#sk-container-id-4 div.sk-serial::before {content: \"\";position: absolute;border-left: 1px solid gray;box-sizing: border-box;top: 0;bottom: 0;left: 50%;z-index: 0;}#sk-container-id-4 div.sk-serial {display: flex;flex-direction: column;align-items: center;background-color: white;padding-right: 0.2em;padding-left: 0.2em;position: relative;}#sk-container-id-4 div.sk-item {position: relative;z-index: 1;}#sk-container-id-4 div.sk-parallel {display: flex;align-items: stretch;justify-content: center;background-color: white;position: relative;}#sk-container-id-4 div.sk-item::before, #sk-container-id-4 div.sk-parallel-item::before {content: \"\";position: absolute;border-left: 1px solid gray;box-sizing: border-box;top: 0;bottom: 0;left: 50%;z-index: -1;}#sk-container-id-4 div.sk-parallel-item {display: flex;flex-direction: column;z-index: 1;position: relative;background-color: white;}#sk-container-id-4 div.sk-parallel-item:first-child::after {align-self: flex-end;width: 50%;}#sk-container-id-4 div.sk-parallel-item:last-child::after {align-self: flex-start;width: 50%;}#sk-container-id-4 div.sk-parallel-item:only-child::after {width: 0;}#sk-container-id-4 div.sk-dashed-wrapped {border: 1px dashed gray;margin: 0 0.4em 0.5em 0.4em;box-sizing: border-box;padding-bottom: 0.4em;background-color: white;}#sk-container-id-4 div.sk-label label {font-family: monospace;font-weight: bold;display: inline-block;line-height: 1.2em;}#sk-container-id-4 div.sk-label-container {text-align: center;}#sk-container-id-4 div.sk-container {/* jupyter's `normalize.less` sets `[hidden] { display: none; }` but bootstrap.min.css set `[hidden] { display: none !important; }` so we also need the `!important` here to be able to override the default hidden behavior on the sphinx rendered scikit-learn.org. See: https://github.com/scikit-learn/scikit-learn/issues/21755 */display: inline-block !important;position: relative;}#sk-container-id-4 div.sk-text-repr-fallback {display: none;}</style><div id=\"sk-container-id-4\" class=\"sk-top-container\"><div class=\"sk-text-repr-fallback\"><pre>RandomForestClassifier()</pre><b>In a Jupyter environment, please rerun this cell to show the HTML representation or trust the notebook. <br />On GitHub, the HTML representation is unable to render, please try loading this page with nbviewer.org.</b></div><div class=\"sk-container\" hidden><div class=\"sk-item\"><div class=\"sk-estimator sk-toggleable\"><input class=\"sk-toggleable__control sk-hidden--visually\" id=\"sk-estimator-id-8\" type=\"checkbox\" checked><label for=\"sk-estimator-id-8\" class=\"sk-toggleable__label sk-toggleable__label-arrow\">RandomForestClassifier</label><div class=\"sk-toggleable__content\"><pre>RandomForestClassifier()</pre></div></div></div></div></div>"
            ]
          },
          "metadata": {},
          "execution_count": 28
        }
      ]
    },
    {
      "cell_type": "code",
      "source": [
        "# Split the data into training (80%) and validation (20%) sets with specified random seed for reproducibility\n",
        "X_train, X_valid, y_train, y_valid = train_test_split(X, y, train_size=0.8, test_size=0.2,\n",
        "                                                      random_state=0)"
      ],
      "metadata": {
        "id": "VZmSKYvdyy_8"
      },
      "execution_count": 29,
      "outputs": []
    },
    {
      "cell_type": "code",
      "source": [
        "# Fit the machine learning pipeline 'pipe' using the training predictors 'X_train' and corresponding target 'y_train'\n",
        "pipe.fit(X_train,y_train)"
      ],
      "metadata": {
        "colab": {
          "base_uri": "https://localhost:8080/",
          "height": 192
        },
        "id": "65JG_uJVy7LO",
        "outputId": "67c54597-fc9e-4bab-8b94-6e065614fd32"
      },
      "execution_count": 30,
      "outputs": [
        {
          "output_type": "execute_result",
          "data": {
            "text/plain": [
              "Pipeline(steps=[('simpleimputer', SimpleImputer(strategy='median')),\n",
              "                ('standardscaler', StandardScaler()),\n",
              "                ('pca', PCA(n_components=0.95)),\n",
              "                ('randomforestclassifier', RandomForestClassifier())])"
            ],
            "text/html": [
              "<style>#sk-container-id-5 {color: black;background-color: white;}#sk-container-id-5 pre{padding: 0;}#sk-container-id-5 div.sk-toggleable {background-color: white;}#sk-container-id-5 label.sk-toggleable__label {cursor: pointer;display: block;width: 100%;margin-bottom: 0;padding: 0.3em;box-sizing: border-box;text-align: center;}#sk-container-id-5 label.sk-toggleable__label-arrow:before {content: \"▸\";float: left;margin-right: 0.25em;color: #696969;}#sk-container-id-5 label.sk-toggleable__label-arrow:hover:before {color: black;}#sk-container-id-5 div.sk-estimator:hover label.sk-toggleable__label-arrow:before {color: black;}#sk-container-id-5 div.sk-toggleable__content {max-height: 0;max-width: 0;overflow: hidden;text-align: left;background-color: #f0f8ff;}#sk-container-id-5 div.sk-toggleable__content pre {margin: 0.2em;color: black;border-radius: 0.25em;background-color: #f0f8ff;}#sk-container-id-5 input.sk-toggleable__control:checked~div.sk-toggleable__content {max-height: 200px;max-width: 100%;overflow: auto;}#sk-container-id-5 input.sk-toggleable__control:checked~label.sk-toggleable__label-arrow:before {content: \"▾\";}#sk-container-id-5 div.sk-estimator input.sk-toggleable__control:checked~label.sk-toggleable__label {background-color: #d4ebff;}#sk-container-id-5 div.sk-label input.sk-toggleable__control:checked~label.sk-toggleable__label {background-color: #d4ebff;}#sk-container-id-5 input.sk-hidden--visually {border: 0;clip: rect(1px 1px 1px 1px);clip: rect(1px, 1px, 1px, 1px);height: 1px;margin: -1px;overflow: hidden;padding: 0;position: absolute;width: 1px;}#sk-container-id-5 div.sk-estimator {font-family: monospace;background-color: #f0f8ff;border: 1px dotted black;border-radius: 0.25em;box-sizing: border-box;margin-bottom: 0.5em;}#sk-container-id-5 div.sk-estimator:hover {background-color: #d4ebff;}#sk-container-id-5 div.sk-parallel-item::after {content: \"\";width: 100%;border-bottom: 1px solid gray;flex-grow: 1;}#sk-container-id-5 div.sk-label:hover label.sk-toggleable__label {background-color: #d4ebff;}#sk-container-id-5 div.sk-serial::before {content: \"\";position: absolute;border-left: 1px solid gray;box-sizing: border-box;top: 0;bottom: 0;left: 50%;z-index: 0;}#sk-container-id-5 div.sk-serial {display: flex;flex-direction: column;align-items: center;background-color: white;padding-right: 0.2em;padding-left: 0.2em;position: relative;}#sk-container-id-5 div.sk-item {position: relative;z-index: 1;}#sk-container-id-5 div.sk-parallel {display: flex;align-items: stretch;justify-content: center;background-color: white;position: relative;}#sk-container-id-5 div.sk-item::before, #sk-container-id-5 div.sk-parallel-item::before {content: \"\";position: absolute;border-left: 1px solid gray;box-sizing: border-box;top: 0;bottom: 0;left: 50%;z-index: -1;}#sk-container-id-5 div.sk-parallel-item {display: flex;flex-direction: column;z-index: 1;position: relative;background-color: white;}#sk-container-id-5 div.sk-parallel-item:first-child::after {align-self: flex-end;width: 50%;}#sk-container-id-5 div.sk-parallel-item:last-child::after {align-self: flex-start;width: 50%;}#sk-container-id-5 div.sk-parallel-item:only-child::after {width: 0;}#sk-container-id-5 div.sk-dashed-wrapped {border: 1px dashed gray;margin: 0 0.4em 0.5em 0.4em;box-sizing: border-box;padding-bottom: 0.4em;background-color: white;}#sk-container-id-5 div.sk-label label {font-family: monospace;font-weight: bold;display: inline-block;line-height: 1.2em;}#sk-container-id-5 div.sk-label-container {text-align: center;}#sk-container-id-5 div.sk-container {/* jupyter's `normalize.less` sets `[hidden] { display: none; }` but bootstrap.min.css set `[hidden] { display: none !important; }` so we also need the `!important` here to be able to override the default hidden behavior on the sphinx rendered scikit-learn.org. See: https://github.com/scikit-learn/scikit-learn/issues/21755 */display: inline-block !important;position: relative;}#sk-container-id-5 div.sk-text-repr-fallback {display: none;}</style><div id=\"sk-container-id-5\" class=\"sk-top-container\"><div class=\"sk-text-repr-fallback\"><pre>Pipeline(steps=[(&#x27;simpleimputer&#x27;, SimpleImputer(strategy=&#x27;median&#x27;)),\n",
              "                (&#x27;standardscaler&#x27;, StandardScaler()),\n",
              "                (&#x27;pca&#x27;, PCA(n_components=0.95)),\n",
              "                (&#x27;randomforestclassifier&#x27;, RandomForestClassifier())])</pre><b>In a Jupyter environment, please rerun this cell to show the HTML representation or trust the notebook. <br />On GitHub, the HTML representation is unable to render, please try loading this page with nbviewer.org.</b></div><div class=\"sk-container\" hidden><div class=\"sk-item sk-dashed-wrapped\"><div class=\"sk-label-container\"><div class=\"sk-label sk-toggleable\"><input class=\"sk-toggleable__control sk-hidden--visually\" id=\"sk-estimator-id-9\" type=\"checkbox\" ><label for=\"sk-estimator-id-9\" class=\"sk-toggleable__label sk-toggleable__label-arrow\">Pipeline</label><div class=\"sk-toggleable__content\"><pre>Pipeline(steps=[(&#x27;simpleimputer&#x27;, SimpleImputer(strategy=&#x27;median&#x27;)),\n",
              "                (&#x27;standardscaler&#x27;, StandardScaler()),\n",
              "                (&#x27;pca&#x27;, PCA(n_components=0.95)),\n",
              "                (&#x27;randomforestclassifier&#x27;, RandomForestClassifier())])</pre></div></div></div><div class=\"sk-serial\"><div class=\"sk-item\"><div class=\"sk-estimator sk-toggleable\"><input class=\"sk-toggleable__control sk-hidden--visually\" id=\"sk-estimator-id-10\" type=\"checkbox\" ><label for=\"sk-estimator-id-10\" class=\"sk-toggleable__label sk-toggleable__label-arrow\">SimpleImputer</label><div class=\"sk-toggleable__content\"><pre>SimpleImputer(strategy=&#x27;median&#x27;)</pre></div></div></div><div class=\"sk-item\"><div class=\"sk-estimator sk-toggleable\"><input class=\"sk-toggleable__control sk-hidden--visually\" id=\"sk-estimator-id-11\" type=\"checkbox\" ><label for=\"sk-estimator-id-11\" class=\"sk-toggleable__label sk-toggleable__label-arrow\">StandardScaler</label><div class=\"sk-toggleable__content\"><pre>StandardScaler()</pre></div></div></div><div class=\"sk-item\"><div class=\"sk-estimator sk-toggleable\"><input class=\"sk-toggleable__control sk-hidden--visually\" id=\"sk-estimator-id-12\" type=\"checkbox\" ><label for=\"sk-estimator-id-12\" class=\"sk-toggleable__label sk-toggleable__label-arrow\">PCA</label><div class=\"sk-toggleable__content\"><pre>PCA(n_components=0.95)</pre></div></div></div><div class=\"sk-item\"><div class=\"sk-estimator sk-toggleable\"><input class=\"sk-toggleable__control sk-hidden--visually\" id=\"sk-estimator-id-13\" type=\"checkbox\" ><label for=\"sk-estimator-id-13\" class=\"sk-toggleable__label sk-toggleable__label-arrow\">RandomForestClassifier</label><div class=\"sk-toggleable__content\"><pre>RandomForestClassifier()</pre></div></div></div></div></div></div></div>"
            ]
          },
          "metadata": {},
          "execution_count": 30
        }
      ]
    },
    {
      "cell_type": "code",
      "source": [
        "# Use the trained pipeline 'pipe' to make predictions on the validation data 'X_valid' and store the predictions in 'pred'\n",
        "pred = pipe.predict(X_valid)"
      ],
      "metadata": {
        "id": "dlLhoEEMy9S-"
      },
      "execution_count": 31,
      "outputs": []
    },
    {
      "cell_type": "code",
      "source": [
        "# Calculate and store the accuracy of pipeline predictions 'pred' by comparing them to the actual validation targets 'y_valid'\n",
        "accu = accuracy_score(y_valid,pred)\n",
        "accu"
      ],
      "metadata": {
        "colab": {
          "base_uri": "https://localhost:8080/"
        },
        "id": "DTbJilU9y_kQ",
        "outputId": "589292ea-9bd2-42a7-bcda-7f3bf9bce488"
      },
      "execution_count": 32,
      "outputs": [
        {
          "output_type": "execute_result",
          "data": {
            "text/plain": [
              "0.8051948051948052"
            ]
          },
          "metadata": {},
          "execution_count": 32
        }
      ]
    },
    {
      "cell_type": "markdown",
      "source": [
        "The calculated accuracy of approximately 0.8051 (80.5%) indicates that the pipeline's predictions ('pred') closely match the actual validation targets ('y_valid'). This suggests that the model is performing well on the validation set."
      ],
      "metadata": {
        "id": "YwP82UfqdnvW"
      }
    },
    {
      "cell_type": "code",
      "source": [
        " #Around 63.8% of predictions (pred) matched the test targets (y_test), indicating moderate predictive accuracy.\n",
        " #The accuracy of pipeline predictions (pred) against validation targets (y_valid) is approximately 55.9%, implying some limitations in model performance."
      ],
      "metadata": {
        "id": "nBr5XPq--zJo"
      },
      "execution_count": 33,
      "outputs": []
    },
    {
      "cell_type": "code",
      "source": [
        "from sklearn.model_selection import cross_val_score"
      ],
      "metadata": {
        "id": "3D99ZRB0FD74"
      },
      "execution_count": 34,
      "outputs": []
    },
    {
      "cell_type": "code",
      "source": [
        "# Perform cross-validation using the pipeline 'pipe' on the predictors 'X' and target 'y',\n",
        "# calculating accuracy scores for each fold and displaying the mean accuracy\n",
        "cv_scores = cross_val_score(pipe, X, y,\n",
        "                            cv=5,\n",
        "                            scoring='accuracy')\n",
        "\n",
        "print(\"Cross-validation accuracy: %f\" % cv_scores.mean())"
      ],
      "metadata": {
        "colab": {
          "base_uri": "https://localhost:8080/"
        },
        "id": "f8B0GeymEll0",
        "outputId": "da3ed50b-54ee-4838-da5a-29ce65808555"
      },
      "execution_count": 35,
      "outputs": [
        {
          "output_type": "stream",
          "name": "stdout",
          "text": [
            "Cross-validation accuracy: 0.759189\n"
          ]
        }
      ]
    },
    {
      "cell_type": "markdown",
      "source": [
        "The cross-validation accuracy of approximately 0.76 indicates that the pipeline's performance is consistent across different data folds, validating its generalization ability. This metric provides an average accuracy score across five distinct folds, implying that the model's predictions align with the actual target values in these varied subsets of the data. This suggests a reasonably stable and effective model performance on this dataset."
      ],
      "metadata": {
        "id": "E34s9Z77eKZt"
      }
    }
  ]
}