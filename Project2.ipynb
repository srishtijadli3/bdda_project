{
  "nbformat": 4,
  "nbformat_minor": 0,
  "metadata": {
    "colab": {
      "provenance": []
    },
    "kernelspec": {
      "name": "python3",
      "display_name": "Python 3"
    },
    "language_info": {
      "name": "python"
    }
  },
  "cells": [
    {
      "cell_type": "code",
      "execution_count": null,
      "metadata": {
        "id": "vI5ym7T7FeKO"
      },
      "outputs": [],
      "source": [
        "# 1.0 Data Loading Code Runs At This Point\n",
        "import pandas as pd\n",
        "\n",
        "# 1.0.1\n",
        "from sklearn.tree import DecisionTreeRegressor\n",
        "from sklearn.model_selection import train_test_split\n",
        "from sklearn.metrics import mean_absolute_error,accuracy_score\n",
        "\n",
        "# 1.0.2\n",
        "from pathlib import Path"
      ]
    },
    {
      "cell_type": "code",
      "source": [
        "# 1.0.3 Get data from gdrive:\n",
        "\n",
        "from google.colab import drive\n",
        "drive.mount('/gdrive')"
      ],
      "metadata": {
        "colab": {
          "base_uri": "https://localhost:8080/"
        },
        "id": "Bp-QJCrSFiGY",
        "outputId": "a1c46521-aec5-4ee6-e477-33beeed28ca4"
      },
      "execution_count": 1,
      "outputs": [
        {
          "output_type": "stream",
          "name": "stdout",
          "text": [
            "Mounted at /gdrive\n"
          ]
        }
      ]
    },
    {
      "cell_type": "code",
      "source": [
        "# 1.1 Path to data folder:\n",
        "\n",
        "pathToFolder = \"/gdrive/MyDrive/bdda1 (1)/bdda1/archive (6)/GOOG.csv\""
      ],
      "metadata": {
        "id": "o8KxMYSjFnec"
      },
      "execution_count": 2,
      "outputs": []
    },
    {
      "cell_type": "code",
      "source": [
        "from pathlib import Path\n",
        "\n",
        "# Your pathToFolder\n",
        "pathToFolder = \"/gdrive/MyDrive/bdda1 (1)/bdda1/archive (6)/GOOG.csv\"\n",
        "\n",
        "# Construct the full path to the file\n",
        "path = Path(pathToFolder) / \"GOOG.csv\"\n"
      ],
      "metadata": {
        "id": "NRg1-ynDGEIz"
      },
      "execution_count": 4,
      "outputs": []
    },
    {
      "cell_type": "code",
      "source": [
        "# 1.11 path + Filename:\n",
        "\n",
        "path = Path(pathToFolder) / \"GOOG.csv\""
      ],
      "metadata": {
        "id": "ECn2AoaVGLdf"
      },
      "execution_count": 5,
      "outputs": []
    },
    {
      "cell_type": "code",
      "source": [
        "# 1.2 Display from a cell outputs of multiple commands:\n",
        "\n",
        "from IPython.core.interactiveshell import InteractiveShell\n",
        "InteractiveShell.ast_node_interactivity = \"all\"\n"
      ],
      "metadata": {
        "id": "37QVkqKlGeNR"
      },
      "execution_count": 6,
      "outputs": []
    },
    {
      "cell_type": "code",
      "source": [],
      "metadata": {
        "id": "pa65rEdlGgNJ"
      },
      "execution_count": 28,
      "outputs": []
    },
    {
      "cell_type": "code",
      "source": [
        "import pandas as pd\n",
        "from pathlib import Path\n",
        "\n",
        "# Replace this with the correct path to the CSV file\n",
        "csv_file_path = \"/gdrive/MyDrive/bdda1 (1)/bdda1/archive (6)/GOOG.csv\"\n",
        "\n",
        "# Load the data using pandas\n",
        "X = pd.read_csv(csv_file_path)\n"
      ],
      "metadata": {
        "id": "6tfD61zUG9_j"
      },
      "execution_count": 10,
      "outputs": []
    },
    {
      "cell_type": "code",
      "source": [
        "# 1.3.1 About data:\n",
        "\n",
        "X.shape   # (2000, 21)\n",
        "X.head()"
      ],
      "metadata": {
        "colab": {
          "base_uri": "https://localhost:8080/",
          "height": 224
        },
        "id": "te1HnAFjGiij",
        "outputId": "15a2f6aa-fcf8-4be4-de82-8a89312cf37f"
      },
      "execution_count": 11,
      "outputs": [
        {
          "output_type": "execute_result",
          "data": {
            "text/plain": [
              "(1258, 8)"
            ]
          },
          "metadata": {},
          "execution_count": 11
        },
        {
          "output_type": "execute_result",
          "data": {
            "text/plain": [
              "   Name     Date       Open       High        Low      Close  Adj Close  \\\n",
              "0  GOOG  7/30/18  61.400501  61.745800  60.573502  60.987000  60.987000   \n",
              "1  GOOG  7/31/18  61.000500  61.379398  60.279999  60.862999  60.862999   \n",
              "2  GOOG   8/1/18  61.400002  61.673500  60.510502  61.000500  61.000500   \n",
              "3  GOOG   8/2/18  60.294998  61.493999  60.239498  61.307499  61.307499   \n",
              "4  GOOG   8/3/18  61.480999  61.500000  60.752998  61.185501  61.185501   \n",
              "\n",
              "     Volume  \n",
              "0  36998000  \n",
              "1  32894000  \n",
              "2  31344000  \n",
              "3  30626000  \n",
              "4  21792000  "
            ],
            "text/html": [
              "\n",
              "\n",
              "  <div id=\"df-97e17070-cf57-4f53-abd1-e3be94603bd0\">\n",
              "    <div class=\"colab-df-container\">\n",
              "      <div>\n",
              "<style scoped>\n",
              "    .dataframe tbody tr th:only-of-type {\n",
              "        vertical-align: middle;\n",
              "    }\n",
              "\n",
              "    .dataframe tbody tr th {\n",
              "        vertical-align: top;\n",
              "    }\n",
              "\n",
              "    .dataframe thead th {\n",
              "        text-align: right;\n",
              "    }\n",
              "</style>\n",
              "<table border=\"1\" class=\"dataframe\">\n",
              "  <thead>\n",
              "    <tr style=\"text-align: right;\">\n",
              "      <th></th>\n",
              "      <th>Name</th>\n",
              "      <th>Date</th>\n",
              "      <th>Open</th>\n",
              "      <th>High</th>\n",
              "      <th>Low</th>\n",
              "      <th>Close</th>\n",
              "      <th>Adj Close</th>\n",
              "      <th>Volume</th>\n",
              "    </tr>\n",
              "  </thead>\n",
              "  <tbody>\n",
              "    <tr>\n",
              "      <th>0</th>\n",
              "      <td>GOOG</td>\n",
              "      <td>7/30/18</td>\n",
              "      <td>61.400501</td>\n",
              "      <td>61.745800</td>\n",
              "      <td>60.573502</td>\n",
              "      <td>60.987000</td>\n",
              "      <td>60.987000</td>\n",
              "      <td>36998000</td>\n",
              "    </tr>\n",
              "    <tr>\n",
              "      <th>1</th>\n",
              "      <td>GOOG</td>\n",
              "      <td>7/31/18</td>\n",
              "      <td>61.000500</td>\n",
              "      <td>61.379398</td>\n",
              "      <td>60.279999</td>\n",
              "      <td>60.862999</td>\n",
              "      <td>60.862999</td>\n",
              "      <td>32894000</td>\n",
              "    </tr>\n",
              "    <tr>\n",
              "      <th>2</th>\n",
              "      <td>GOOG</td>\n",
              "      <td>8/1/18</td>\n",
              "      <td>61.400002</td>\n",
              "      <td>61.673500</td>\n",
              "      <td>60.510502</td>\n",
              "      <td>61.000500</td>\n",
              "      <td>61.000500</td>\n",
              "      <td>31344000</td>\n",
              "    </tr>\n",
              "    <tr>\n",
              "      <th>3</th>\n",
              "      <td>GOOG</td>\n",
              "      <td>8/2/18</td>\n",
              "      <td>60.294998</td>\n",
              "      <td>61.493999</td>\n",
              "      <td>60.239498</td>\n",
              "      <td>61.307499</td>\n",
              "      <td>61.307499</td>\n",
              "      <td>30626000</td>\n",
              "    </tr>\n",
              "    <tr>\n",
              "      <th>4</th>\n",
              "      <td>GOOG</td>\n",
              "      <td>8/3/18</td>\n",
              "      <td>61.480999</td>\n",
              "      <td>61.500000</td>\n",
              "      <td>60.752998</td>\n",
              "      <td>61.185501</td>\n",
              "      <td>61.185501</td>\n",
              "      <td>21792000</td>\n",
              "    </tr>\n",
              "  </tbody>\n",
              "</table>\n",
              "</div>\n",
              "      <button class=\"colab-df-convert\" onclick=\"convertToInteractive('df-97e17070-cf57-4f53-abd1-e3be94603bd0')\"\n",
              "              title=\"Convert this dataframe to an interactive table.\"\n",
              "              style=\"display:none;\">\n",
              "\n",
              "  <svg xmlns=\"http://www.w3.org/2000/svg\" height=\"24px\"viewBox=\"0 0 24 24\"\n",
              "       width=\"24px\">\n",
              "    <path d=\"M0 0h24v24H0V0z\" fill=\"none\"/>\n",
              "    <path d=\"M18.56 5.44l.94 2.06.94-2.06 2.06-.94-2.06-.94-.94-2.06-.94 2.06-2.06.94zm-11 1L8.5 8.5l.94-2.06 2.06-.94-2.06-.94L8.5 2.5l-.94 2.06-2.06.94zm10 10l.94 2.06.94-2.06 2.06-.94-2.06-.94-.94-2.06-.94 2.06-2.06.94z\"/><path d=\"M17.41 7.96l-1.37-1.37c-.4-.4-.92-.59-1.43-.59-.52 0-1.04.2-1.43.59L10.3 9.45l-7.72 7.72c-.78.78-.78 2.05 0 2.83L4 21.41c.39.39.9.59 1.41.59.51 0 1.02-.2 1.41-.59l7.78-7.78 2.81-2.81c.8-.78.8-2.07 0-2.86zM5.41 20L4 18.59l7.72-7.72 1.47 1.35L5.41 20z\"/>\n",
              "  </svg>\n",
              "      </button>\n",
              "\n",
              "\n",
              "\n",
              "    <div id=\"df-5cd4464f-d7eb-4cc8-93b1-5288d38703dc\">\n",
              "      <button class=\"colab-df-quickchart\" onclick=\"quickchart('df-5cd4464f-d7eb-4cc8-93b1-5288d38703dc')\"\n",
              "              title=\"Suggest charts.\"\n",
              "              style=\"display:none;\">\n",
              "\n",
              "<svg xmlns=\"http://www.w3.org/2000/svg\" height=\"24px\"viewBox=\"0 0 24 24\"\n",
              "     width=\"24px\">\n",
              "    <g>\n",
              "        <path d=\"M19 3H5c-1.1 0-2 .9-2 2v14c0 1.1.9 2 2 2h14c1.1 0 2-.9 2-2V5c0-1.1-.9-2-2-2zM9 17H7v-7h2v7zm4 0h-2V7h2v10zm4 0h-2v-4h2v4z\"/>\n",
              "    </g>\n",
              "</svg>\n",
              "      </button>\n",
              "    </div>\n",
              "\n",
              "<style>\n",
              "  .colab-df-quickchart {\n",
              "    background-color: #E8F0FE;\n",
              "    border: none;\n",
              "    border-radius: 50%;\n",
              "    cursor: pointer;\n",
              "    display: none;\n",
              "    fill: #1967D2;\n",
              "    height: 32px;\n",
              "    padding: 0 0 0 0;\n",
              "    width: 32px;\n",
              "  }\n",
              "\n",
              "  .colab-df-quickchart:hover {\n",
              "    background-color: #E2EBFA;\n",
              "    box-shadow: 0px 1px 2px rgba(60, 64, 67, 0.3), 0px 1px 3px 1px rgba(60, 64, 67, 0.15);\n",
              "    fill: #174EA6;\n",
              "  }\n",
              "\n",
              "  [theme=dark] .colab-df-quickchart {\n",
              "    background-color: #3B4455;\n",
              "    fill: #D2E3FC;\n",
              "  }\n",
              "\n",
              "  [theme=dark] .colab-df-quickchart:hover {\n",
              "    background-color: #434B5C;\n",
              "    box-shadow: 0px 1px 3px 1px rgba(0, 0, 0, 0.15);\n",
              "    filter: drop-shadow(0px 1px 2px rgba(0, 0, 0, 0.3));\n",
              "    fill: #FFFFFF;\n",
              "  }\n",
              "</style>\n",
              "\n",
              "    <script>\n",
              "      async function quickchart(key) {\n",
              "        const containerElement = document.querySelector('#' + key);\n",
              "        const charts = await google.colab.kernel.invokeFunction(\n",
              "            'suggestCharts', [key], {});\n",
              "      }\n",
              "    </script>\n",
              "\n",
              "\n",
              "      <script>\n",
              "\n",
              "function displayQuickchartButton(domScope) {\n",
              "  let quickchartButtonEl =\n",
              "    domScope.querySelector('#df-5cd4464f-d7eb-4cc8-93b1-5288d38703dc button.colab-df-quickchart');\n",
              "  quickchartButtonEl.style.display =\n",
              "    google.colab.kernel.accessAllowed ? 'block' : 'none';\n",
              "}\n",
              "\n",
              "        displayQuickchartButton(document);\n",
              "      </script>\n",
              "      <style>\n",
              "    .colab-df-container {\n",
              "      display:flex;\n",
              "      flex-wrap:wrap;\n",
              "      gap: 12px;\n",
              "    }\n",
              "\n",
              "    .colab-df-convert {\n",
              "      background-color: #E8F0FE;\n",
              "      border: none;\n",
              "      border-radius: 50%;\n",
              "      cursor: pointer;\n",
              "      display: none;\n",
              "      fill: #1967D2;\n",
              "      height: 32px;\n",
              "      padding: 0 0 0 0;\n",
              "      width: 32px;\n",
              "    }\n",
              "\n",
              "    .colab-df-convert:hover {\n",
              "      background-color: #E2EBFA;\n",
              "      box-shadow: 0px 1px 2px rgba(60, 64, 67, 0.3), 0px 1px 3px 1px rgba(60, 64, 67, 0.15);\n",
              "      fill: #174EA6;\n",
              "    }\n",
              "\n",
              "    [theme=dark] .colab-df-convert {\n",
              "      background-color: #3B4455;\n",
              "      fill: #D2E3FC;\n",
              "    }\n",
              "\n",
              "    [theme=dark] .colab-df-convert:hover {\n",
              "      background-color: #434B5C;\n",
              "      box-shadow: 0px 1px 3px 1px rgba(0, 0, 0, 0.15);\n",
              "      filter: drop-shadow(0px 1px 2px rgba(0, 0, 0, 0.3));\n",
              "      fill: #FFFFFF;\n",
              "    }\n",
              "  </style>\n",
              "\n",
              "      <script>\n",
              "        const buttonEl =\n",
              "          document.querySelector('#df-97e17070-cf57-4f53-abd1-e3be94603bd0 button.colab-df-convert');\n",
              "        buttonEl.style.display =\n",
              "          google.colab.kernel.accessAllowed ? 'block' : 'none';\n",
              "\n",
              "        async function convertToInteractive(key) {\n",
              "          const element = document.querySelector('#df-97e17070-cf57-4f53-abd1-e3be94603bd0');\n",
              "          const dataTable =\n",
              "            await google.colab.kernel.invokeFunction('convertToInteractive',\n",
              "                                                     [key], {});\n",
              "          if (!dataTable) return;\n",
              "\n",
              "          const docLinkHtml = 'Like what you see? Visit the ' +\n",
              "            '<a target=\"_blank\" href=https://colab.research.google.com/notebooks/data_table.ipynb>data table notebook</a>'\n",
              "            + ' to learn more about interactive tables.';\n",
              "          element.innerHTML = '';\n",
              "          dataTable['output_type'] = 'display_data';\n",
              "          await google.colab.output.renderOutput(dataTable, element);\n",
              "          const docLink = document.createElement('div');\n",
              "          docLink.innerHTML = docLinkHtml;\n",
              "          element.appendChild(docLink);\n",
              "        }\n",
              "      </script>\n",
              "    </div>\n",
              "  </div>\n"
            ]
          },
          "metadata": {},
          "execution_count": 11
        }
      ]
    },
    {
      "cell_type": "code",
      "source": [
        "# 1.3.2 Data types:\n",
        "X.dtypes"
      ],
      "metadata": {
        "colab": {
          "base_uri": "https://localhost:8080/"
        },
        "id": "QpDZeHMHHZQT",
        "outputId": "8e2d5d20-49e3-436c-d8ee-18cfcf3b4f75"
      },
      "execution_count": 12,
      "outputs": [
        {
          "output_type": "execute_result",
          "data": {
            "text/plain": [
              "Name          object\n",
              "Date          object\n",
              "Open         float64\n",
              "High         float64\n",
              "Low          float64\n",
              "Close        float64\n",
              "Adj Close    float64\n",
              "Volume         int64\n",
              "dtype: object"
            ]
          },
          "metadata": {},
          "execution_count": 12
        }
      ]
    },
    {
      "cell_type": "code",
      "source": [
        "# 1.2 How many unique values each column has:\n",
        "\n",
        "for i in X.columns:\n",
        "  print(i, X[i].nunique())"
      ],
      "metadata": {
        "colab": {
          "base_uri": "https://localhost:8080/"
        },
        "id": "CTQupXbTHcbT",
        "outputId": "4a1e0e37-80a3-4749-ea14-e276cb0029f7"
      },
      "execution_count": 13,
      "outputs": [
        {
          "output_type": "stream",
          "name": "stdout",
          "text": [
            "Name 1\n",
            "Date 1258\n",
            "Open 1235\n",
            "High 1244\n",
            "Low 1247\n",
            "Close 1243\n",
            "Adj Close 1243\n",
            "Volume 1237\n"
          ]
        }
      ]
    },
    {
      "cell_type": "code",
      "source": [
        "# 1.5 Filter rows with missing values\n",
        "X.isnull().sum().sum()"
      ],
      "metadata": {
        "colab": {
          "base_uri": "https://localhost:8080/"
        },
        "id": "8DJra_7mHgEJ",
        "outputId": "cc7f6ddc-62fe-4eaf-bb43-30c9dccebeaa"
      },
      "execution_count": 14,
      "outputs": [
        {
          "output_type": "execute_result",
          "data": {
            "text/plain": [
              "0"
            ]
          },
          "metadata": {},
          "execution_count": 14
        }
      ]
    },
    {
      "cell_type": "code",
      "source": [
        "# Identify the correct target column name\n",
        "target_column_name = 'High'\n",
        "\n",
        "# Create the target variable (y) and remove it from the features DataFrame (X)\n",
        "y = X[target_column_name]\n",
        "X.drop(columns=[target_column_name], inplace=True)\n"
      ],
      "metadata": {
        "id": "GPHN0vvSHi8M"
      },
      "execution_count": 17,
      "outputs": []
    },
    {
      "cell_type": "code",
      "source": [
        "from sklearn.model_selection import train_test_split\n"
      ],
      "metadata": {
        "id": "ESyKmxw2HlQ0"
      },
      "execution_count": 20,
      "outputs": []
    },
    {
      "cell_type": "code",
      "source": [
        "# 2.1 Split data into training and validation data, for both features and target:\n",
        "\n",
        "train_X, val_X, train_y, val_y = train_test_split(X, y,random_state = 0)"
      ],
      "metadata": {
        "id": "plHHTjJWH5sp"
      },
      "execution_count": 21,
      "outputs": []
    },
    {
      "cell_type": "code",
      "source": [
        "# 3.0 A function to model and also to calculate MAE\n",
        "def get_mae(max_leaf_nodes, train_X, val_X, train_y, val_y):\n",
        "  # 3.1 Instantiate Decision tree regressor\n",
        "    model = DecisionTreeRegressor(max_leaf_nodes=max_leaf_nodes, random_state=0)\n",
        "    # 3.2 Train model\n",
        "    model.fit(train_X, train_y)\n",
        "    # 3.3 Make predictions\n",
        "    preds_val = model.predict(val_X)\n",
        "    # 3.4 Get error\n",
        "    mae = mean_absolute_error(val_y, preds_val)\n",
        "    # 3.5 Return error\n",
        "    return(mae)"
      ],
      "metadata": {
        "id": "7RclvTSaIQUL"
      },
      "execution_count": 22,
      "outputs": []
    },
    {
      "cell_type": "code",
      "source": [
        "from sklearn.tree import DecisionTreeRegressor\n"
      ],
      "metadata": {
        "id": "rvCu7xMPISaR"
      },
      "execution_count": 24,
      "outputs": []
    },
    {
      "cell_type": "code",
      "source": [
        "# Import necessary libraries\n",
        "import pandas as pd\n",
        "from sklearn.model_selection import train_test_split\n",
        "from sklearn.tree import DecisionTreeRegressor\n",
        "from sklearn.metrics import mean_absolute_error\n",
        "\n",
        "# Load your data using pandas\n",
        "data = pd.read_csv(\"/gdrive/MyDrive/bdda1 (1)/bdda1/archive (6)/GOOG.csv\")\n",
        "\n",
        "# Identify features and target variable\n",
        "features = data.drop(columns=[\"High\"])\n",
        "target = data[\"High\"]\n",
        "\n",
        "# Preprocess categorical variables (example using one-hot encoding)\n",
        "features_encoded = pd.get_dummies(features)\n",
        "\n",
        "# Split data into training and validation sets\n",
        "train_X, val_X, train_y, val_y = train_test_split(features_encoded, target, random_state=0)\n"
      ],
      "metadata": {
        "id": "4lIrHKHRIVTB"
      },
      "execution_count": 26,
      "outputs": []
    },
    {
      "cell_type": "code",
      "source": [
        "def get_mae(max_leaf_nodes, train_X, val_X, train_y, val_y):\n",
        "    model = DecisionTreeRegressor(max_leaf_nodes=max_leaf_nodes, random_state=0)\n",
        "    model.fit(train_X, train_y)\n",
        "    preds_val = model.predict(val_X)\n",
        "    mae = mean_absolute_error(val_y, preds_val)\n",
        "    return mae\n"
      ],
      "metadata": {
        "id": "maAWXzTdIecV"
      },
      "execution_count": 27,
      "outputs": []
    },
    {
      "cell_type": "code",
      "source": [
        "for max_leaf_nodes in [5, 50, 500, 5000]:\n",
        "    my_mae = get_mae(max_leaf_nodes, train_X, val_X, train_y, val_y)\n",
        "    print(f\"Max leaf nodes: {max_leaf_nodes} \\t\\t Mean Absolute Error: {my_mae}\")\n"
      ],
      "metadata": {
        "colab": {
          "base_uri": "https://localhost:8080/"
        },
        "id": "PllBmyQEI2jU",
        "outputId": "5b790a0e-f3ba-4c95-8d12-91166e59f207"
      },
      "execution_count": 28,
      "outputs": [
        {
          "output_type": "stream",
          "name": "stdout",
          "text": [
            "Max leaf nodes: 5 \t\t Mean Absolute Error: 5.0780743685334055\n",
            "Max leaf nodes: 50 \t\t Mean Absolute Error: 0.9444452916827414\n",
            "Max leaf nodes: 500 \t\t Mean Absolute Error: 0.7148952481481484\n",
            "Max leaf nodes: 5000 \t\t Mean Absolute Error: 0.715254990476191\n"
          ]
        }
      ]
    },
    {
      "cell_type": "code",
      "source": [],
      "metadata": {
        "id": "-zpoeY6FI4iT"
      },
      "execution_count": null,
      "outputs": []
    }
  ]
}